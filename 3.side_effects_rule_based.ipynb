{
 "cells": [
  {
   "cell_type": "markdown",
   "id": "a66218b8",
   "metadata": {},
   "source": [
    "# Let's summarize the side effects detected by Stanza"
   ]
  },
  {
   "cell_type": "markdown",
   "id": "7c542c58",
   "metadata": {},
   "source": [
    "Stanza yielded a list of side effects. Which ones are more common?"
   ]
  },
  {
   "cell_type": "code",
   "execution_count": 49,
   "id": "3c9f4661",
   "metadata": {},
   "outputs": [
    {
     "name": "stdout",
     "output_type": "stream",
     "text": [
      "Last modified by Xiaoqing: 220216\n"
     ]
    }
   ],
   "source": [
    "from datetime import datetime\n",
    "date = datetime.today().strftime('%y%m%d')\n",
    "print ('Last modified by Xiaoqing: ' + date)"
   ]
  },
  {
   "cell_type": "code",
   "execution_count": 50,
   "id": "7a764474",
   "metadata": {},
   "outputs": [],
   "source": [
    "import pandas as pd\n",
    "import numpy as np"
   ]
  },
  {
   "cell_type": "markdown",
   "id": "b4100145",
   "metadata": {},
   "source": [
    "# Read data"
   ]
  },
  {
   "cell_type": "code",
   "execution_count": 99,
   "id": "126293a2",
   "metadata": {},
   "outputs": [
    {
     "name": "stdout",
     "output_type": "stream",
     "text": [
      "“I have had my IUD for over a year now and I think it's the best thing ever. When I first \n"
     ]
    }
   ],
   "source": [
    "df = pd.read_csv('mirena.csv')\n",
    "# df = pd.read_csv('lo.csv')\n",
    "# df = pd.read_csv('nuvaring.csv')\n",
    "\n",
    "data = df['review'].tolist() # get a list of reviews\n",
    "\n",
    "a = data[0]\n",
    "a = a.find('“') # find the character index when \" first appeared\n",
    "    \n",
    "data = [e[a:] for e in data] # remove \"Elocon (mometasone) for Eczema:\" from reviews\n",
    "print (data[0][0:90])\n",
    "\n",
    "df['review_clean'] = data\n",
    "df['review_clean'] = df['review_clean'].str.lower()"
   ]
  },
  {
   "cell_type": "markdown",
   "id": "ac45cdae",
   "metadata": {},
   "source": [
    "# Find frequency of side effects"
   ]
  },
  {
   "cell_type": "markdown",
   "id": "00f953de",
   "metadata": {},
   "source": [
    "The rule-based detection of weight issues is 31.9%, and if we adjust downwards assuming a negation rate of 23.2% (taken from manual verification), we then get 24.5% which is very close to the true mentions of 23.3%."
   ]
  },
  {
   "cell_type": "code",
   "execution_count": 100,
   "id": "aa6117f3",
   "metadata": {},
   "outputs": [],
   "source": [
    "a = 'cramp|pain|hurt|ache'\n",
    "b = 'bleed|bled|spot'\n",
    "c = 'weigh|lb|pounds'\n",
    "d = 'emotion|mood|short temper|depressed|depression|angry|anger|cry|anxious|anxiety|cranky'\n",
    "e = 'libido|sex'\n",
    "f = 'acne|breaking out|break out|broke out|pimple|skin'\n",
    "g = 'headache|migraine'\n",
    "h = 'hair|shed'\n",
    "i = 'breast'\n",
    "j = 'discharge'\n",
    "k = 'vaginal infection|yeast'\n",
    "l = 'ovarian cyst'\n",
    "m = 'dry'\n",
    "n = 'period'\n",
    "\n",
    "# 'abcdefghijklmnopqrstuvwxyz'"
   ]
  },
  {
   "cell_type": "code",
   "execution_count": 101,
   "id": "b05d22fa",
   "metadata": {},
   "outputs": [
    {
     "data": {
      "text/html": [
       "<div>\n",
       "<style scoped>\n",
       "    .dataframe tbody tr th:only-of-type {\n",
       "        vertical-align: middle;\n",
       "    }\n",
       "\n",
       "    .dataframe tbody tr th {\n",
       "        vertical-align: top;\n",
       "    }\n",
       "\n",
       "    .dataframe thead th {\n",
       "        text-align: right;\n",
       "    }\n",
       "</style>\n",
       "<table border=\"1\" class=\"dataframe\">\n",
       "  <thead>\n",
       "    <tr style=\"text-align: right;\">\n",
       "      <th></th>\n",
       "      <th>side effect</th>\n",
       "      <th>rate</th>\n",
       "    </tr>\n",
       "  </thead>\n",
       "  <tbody>\n",
       "    <tr>\n",
       "      <th>0</th>\n",
       "      <td>cramp|pain|hurt|ache</td>\n",
       "      <td>60.6</td>\n",
       "    </tr>\n",
       "    <tr>\n",
       "      <th>1</th>\n",
       "      <td>bleed|bled|spot</td>\n",
       "      <td>42.6</td>\n",
       "    </tr>\n",
       "    <tr>\n",
       "      <th>2</th>\n",
       "      <td>weigh|lb|pounds</td>\n",
       "      <td>24.5</td>\n",
       "    </tr>\n",
       "    <tr>\n",
       "      <th>3</th>\n",
       "      <td>emotion|mood|short temper|depressed|depression...</td>\n",
       "      <td>22.9</td>\n",
       "    </tr>\n",
       "    <tr>\n",
       "      <th>4</th>\n",
       "      <td>libido|sex</td>\n",
       "      <td>16.5</td>\n",
       "    </tr>\n",
       "    <tr>\n",
       "      <th>5</th>\n",
       "      <td>acne|breaking out|break out|broke out|pimple|skin</td>\n",
       "      <td>16.0</td>\n",
       "    </tr>\n",
       "    <tr>\n",
       "      <th>6</th>\n",
       "      <td>headache|migraine</td>\n",
       "      <td>7.4</td>\n",
       "    </tr>\n",
       "    <tr>\n",
       "      <th>7</th>\n",
       "      <td>hair|shed</td>\n",
       "      <td>6.5</td>\n",
       "    </tr>\n",
       "    <tr>\n",
       "      <th>8</th>\n",
       "      <td>breast</td>\n",
       "      <td>3.0</td>\n",
       "    </tr>\n",
       "    <tr>\n",
       "      <th>9</th>\n",
       "      <td>discharge</td>\n",
       "      <td>2.9</td>\n",
       "    </tr>\n",
       "    <tr>\n",
       "      <th>10</th>\n",
       "      <td>vaginal infection|yeast</td>\n",
       "      <td>1.4</td>\n",
       "    </tr>\n",
       "    <tr>\n",
       "      <th>11</th>\n",
       "      <td>ovarian cyst</td>\n",
       "      <td>1.2</td>\n",
       "    </tr>\n",
       "    <tr>\n",
       "      <th>12</th>\n",
       "      <td>dry</td>\n",
       "      <td>1.0</td>\n",
       "    </tr>\n",
       "    <tr>\n",
       "      <th>13</th>\n",
       "      <td>period</td>\n",
       "      <td>42.2</td>\n",
       "    </tr>\n",
       "  </tbody>\n",
       "</table>\n",
       "</div>"
      ],
      "text/plain": [
       "                                          side effect  rate\n",
       "0                                cramp|pain|hurt|ache  60.6\n",
       "1                                     bleed|bled|spot  42.6\n",
       "2                                     weigh|lb|pounds  24.5\n",
       "3   emotion|mood|short temper|depressed|depression...  22.9\n",
       "4                                          libido|sex  16.5\n",
       "5   acne|breaking out|break out|broke out|pimple|skin  16.0\n",
       "6                                   headache|migraine   7.4\n",
       "7                                           hair|shed   6.5\n",
       "8                                              breast   3.0\n",
       "9                                           discharge   2.9\n",
       "10                            vaginal infection|yeast   1.4\n",
       "11                                       ovarian cyst   1.2\n",
       "12                                                dry   1.0\n",
       "13                                             period  42.2"
      ]
     },
     "execution_count": 101,
     "metadata": {},
     "output_type": "execute_result"
    }
   ],
   "source": [
    "side_effect = [a,b,c,d,e,f,g,h,i,j,k,l,m,n]\n",
    "\n",
    "rate = []\n",
    "\n",
    "for z in side_effect:\n",
    "    df2 = df[df['review_clean'].str.contains(z)]\n",
    "    x = (df2.shape[0]/len(df))*100*(1-.232) #(1-.232) is to adjust for negation\n",
    "    rate.append(round(x,1)) #(1-.232) is to adjust for negation)\n",
    "\n",
    "df3 = pd.DataFrame()        \n",
    "df3['side effect'] = side_effect\n",
    "df3['rate'] = rate\n",
    "\n",
    "df3\n",
    "# df3.sort_values(by=['rate'], ascending = False)\n"
   ]
  },
  {
   "cell_type": "code",
   "execution_count": 102,
   "id": "cb59a171",
   "metadata": {},
   "outputs": [],
   "source": [
    "df3.to_csv('mirena_rates.csv', index = False)  \n",
    "# df3.to_csv('lo_rates.csv', index = False)  \n",
    "# df3.to_csv('nuvaring_rates.csv', index = False)  "
   ]
  },
  {
   "cell_type": "code",
   "execution_count": null,
   "id": "5668c745",
   "metadata": {},
   "outputs": [],
   "source": []
  },
  {
   "cell_type": "code",
   "execution_count": null,
   "id": "c16f7799",
   "metadata": {},
   "outputs": [],
   "source": []
  }
 ],
 "metadata": {
  "kernelspec": {
   "display_name": "Python 3 (ipykernel)",
   "language": "python",
   "name": "python3"
  },
  "language_info": {
   "codemirror_mode": {
    "name": "ipython",
    "version": 3
   },
   "file_extension": ".py",
   "mimetype": "text/x-python",
   "name": "python",
   "nbconvert_exporter": "python",
   "pygments_lexer": "ipython3",
   "version": "3.8.12"
  }
 },
 "nbformat": 4,
 "nbformat_minor": 5
}
